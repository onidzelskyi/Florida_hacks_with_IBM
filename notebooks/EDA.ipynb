{
  "nbformat": 4,
  "nbformat_minor": 0,
  "metadata": {
    "colab": {
      "name": "EDA",
      "provenance": [],
      "authorship_tag": "ABX9TyNt+zXytgnpyPUSETNr9wYA",
      "include_colab_link": true
    },
    "kernelspec": {
      "name": "python3",
      "display_name": "Python 3"
    },
    "language_info": {
      "name": "python"
    }
  },
  "cells": [
    {
      "cell_type": "markdown",
      "metadata": {
        "id": "view-in-github",
        "colab_type": "text"
      },
      "source": [
        "<a href=\"https://colab.research.google.com/github/onidzelskyi/Florida_hacks_with_IBM/blob/main/notebooks/EDA.ipynb\" target=\"_parent\"><img src=\"https://colab.research.google.com/assets/colab-badge.svg\" alt=\"Open In Colab\"/></a>"
      ]
    },
    {
      "cell_type": "markdown",
      "metadata": {
        "id": "t_sge0HJZ8Ys"
      },
      "source": [
        "Download data\n",
        "==="
      ]
    },
    {
      "cell_type": "code",
      "metadata": {
        "colab": {
          "base_uri": "https://localhost:8080/"
        },
        "id": "l757sViqZ7dC",
        "outputId": "013eef98-3a87-4126-ece4-fb74a53547fa"
      },
      "source": [
        "!wget https://opendata.arcgis.com/api/v3/datasets/1cb0f28650b54d7fadb4bd62f4c7a2c1_0/downloads/data?format=csv&spatialRefId=4326"
      ],
      "execution_count": 3,
      "outputs": [
        {
          "output_type": "stream",
          "name": "stdout",
          "text": [
            "--2021-09-15 07:46:16--  https://opendata.arcgis.com/api/v3/datasets/1cb0f28650b54d7fadb4bd62f4c7a2c1_0/downloads/data?format=csv\n",
            "Resolving opendata.arcgis.com (opendata.arcgis.com)... 3.212.79.97, 54.173.5.111, 3.227.89.171\n",
            "Connecting to opendata.arcgis.com (opendata.arcgis.com)|3.212.79.97|:443... connected.\n",
            "HTTP request sent, awaiting response... 400 Bad Request\n",
            "2021-09-15 07:46:16 ERROR 400: Bad Request.\n",
            "\n"
          ]
        }
      ]
    },
    {
      "cell_type": "code",
      "metadata": {
        "id": "eoVFhoMCaONm"
      },
      "source": [
        "\n"
      ],
      "execution_count": null,
      "outputs": []
    },
    {
      "cell_type": "code",
      "metadata": {
        "id": "U9WNf4wBaCC8"
      },
      "source": [
        ""
      ],
      "execution_count": null,
      "outputs": []
    }
  ]
}