{
  "nbformat": 4,
  "nbformat_minor": 0,
  "metadata": {
    "colab": {
      "name": "EDA",
      "provenance": [],
      "collapsed_sections": [],
      "authorship_tag": "ABX9TyMLoOYj7fz2klXlEPHilKBp",
      "include_colab_link": true
    },
    "kernelspec": {
      "name": "python3",
      "display_name": "Python 3"
    },
    "language_info": {
      "name": "python"
    }
  },
  "cells": [
    {
      "cell_type": "markdown",
      "metadata": {
        "id": "view-in-github",
        "colab_type": "text"
      },
      "source": [
        "<a href=\"https://colab.research.google.com/github/onidzelskyi/Florida_hacks_with_IBM/blob/main/notebooks/EDA.ipynb\" target=\"_parent\"><img src=\"https://colab.research.google.com/assets/colab-badge.svg\" alt=\"Open In Colab\"/></a>"
      ]
    },
    {
      "cell_type": "markdown",
      "metadata": {
        "id": "t_sge0HJZ8Ys"
      },
      "source": [
        "Download data\n",
        "==="
      ]
    },
    {
      "cell_type": "code",
      "metadata": {
        "colab": {
          "base_uri": "https://localhost:8080/"
        },
        "id": "l757sViqZ7dC",
        "outputId": "ba58d266-82ee-498c-a73f-c087a53597b4"
      },
      "source": [
        "!rm -rf Florida_hacks_with_IBM\n",
        "!git clone https://github.com/onidzelskyi/Florida_hacks_with_IBM.git"
      ],
      "execution_count": 15,
      "outputs": [
        {
          "output_type": "stream",
          "name": "stdout",
          "text": [
            "Cloning into 'Florida_hacks_with_IBM'...\n",
            "remote: Enumerating objects: 28, done.\u001b[K\n",
            "remote: Counting objects: 100% (28/28), done.\u001b[K\n",
            "remote: Compressing objects: 100% (24/24), done.\u001b[K\n",
            "remote: Total 28 (delta 8), reused 0 (delta 0), pack-reused 0\u001b[K\n",
            "Unpacking objects: 100% (28/28), done.\n"
          ]
        }
      ]
    },
    {
      "cell_type": "markdown",
      "metadata": {
        "id": "fDN8nwCHeDeV"
      },
      "source": [
        "Load dataset\n",
        "==="
      ]
    },
    {
      "cell_type": "code",
      "metadata": {
        "colab": {
          "base_uri": "https://localhost:8080/",
          "height": 453
        },
        "id": "eoVFhoMCaONm",
        "outputId": "ff5a1aa8-1466-4307-e2e0-8b4bbb99359f"
      },
      "source": [
        "import pandas as pd\n",
        "\n",
        "\n",
        "df = pd.read_csv('Florida_hacks_with_IBM/data/Florida_Springs_(2016).csv')\n",
        "df.head()\n"
      ],
      "execution_count": 16,
      "outputs": [
        {
          "output_type": "execute_result",
          "data": {
            "text/html": [
              "<div>\n",
              "<style scoped>\n",
              "    .dataframe tbody tr th:only-of-type {\n",
              "        vertical-align: middle;\n",
              "    }\n",
              "\n",
              "    .dataframe tbody tr th {\n",
              "        vertical-align: top;\n",
              "    }\n",
              "\n",
              "    .dataframe thead th {\n",
              "        text-align: right;\n",
              "    }\n",
              "</style>\n",
              "<table border=\"1\" class=\"dataframe\">\n",
              "  <thead>\n",
              "    <tr style=\"text-align: right;\">\n",
              "      <th></th>\n",
              "      <th>X</th>\n",
              "      <th>Y</th>\n",
              "      <th>OBJECTID</th>\n",
              "      <th>BEST_LOCATION</th>\n",
              "      <th>SPRING_KEY</th>\n",
              "      <th>RESOURCE_</th>\n",
              "      <th>SURFACE_WATER_MEASURE</th>\n",
              "      <th>SPRING_NAME</th>\n",
              "      <th>STATION_NAME</th>\n",
              "      <th>STATION_ALIAS</th>\n",
              "      <th>STATION_ID</th>\n",
              "      <th>DATA_SOURCE</th>\n",
              "      <th>STATION_COMMENTS</th>\n",
              "      <th>TIDAL</th>\n",
              "      <th>FGS_MAGNITUDE</th>\n",
              "      <th>SPRING_CLUSTER</th>\n",
              "      <th>DMS_LAT</th>\n",
              "      <th>DMS_LON</th>\n",
              "      <th>ALBERS_X</th>\n",
              "      <th>ALBERS_Y</th>\n",
              "      <th>DATUM_ALBERS</th>\n",
              "      <th>LOCATION_METHOD</th>\n",
              "      <th>OFS_NAME</th>\n",
              "    </tr>\n",
              "  </thead>\n",
              "  <tbody>\n",
              "    <tr>\n",
              "      <th>0</th>\n",
              "      <td>-82.586286</td>\n",
              "      <td>28.796746</td>\n",
              "      <td>1</td>\n",
              "      <td>CONDITIONAL</td>\n",
              "      <td>96</td>\n",
              "      <td>SPRING_GENERAL</td>\n",
              "      <td>YES</td>\n",
              "      <td>BELCHER SPRING</td>\n",
              "      <td>BELCHER SPRING</td>\n",
              "      <td></td>\n",
              "      <td>284801082351701</td>\n",
              "      <td>SWFWMD - DEWITT</td>\n",
              "      <td></td>\n",
              "      <td>NONTIDAL</td>\n",
              "      <td>2</td>\n",
              "      <td>HOMOSASSA GROUP</td>\n",
              "      <td>28 47 48.287</td>\n",
              "      <td>82 35 10.628</td>\n",
              "      <td>537742.728151</td>\n",
              "      <td>533068.548874</td>\n",
              "      <td>NAD83/HARN/HPGN</td>\n",
              "      <td>DPHO</td>\n",
              "      <td>Homosassa Spring Group</td>\n",
              "    </tr>\n",
              "    <tr>\n",
              "      <th>1</th>\n",
              "      <td>-82.062388</td>\n",
              "      <td>28.757377</td>\n",
              "      <td>2</td>\n",
              "      <td>CONDITIONAL</td>\n",
              "      <td>102</td>\n",
              "      <td>SPRING_GENERAL</td>\n",
              "      <td>YES</td>\n",
              "      <td>BELTONS HEAD SPRING 1</td>\n",
              "      <td>BELTONS MILLPOND HEAD SPRING 1</td>\n",
              "      <td></td>\n",
              "      <td>284526082034401</td>\n",
              "      <td>SWFWMD - DEWITT</td>\n",
              "      <td></td>\n",
              "      <td>NONTIDAL</td>\n",
              "      <td>2</td>\n",
              "      <td>PANASOFFKEE CLUSTER</td>\n",
              "      <td>28 45 26.559</td>\n",
              "      <td>82 03 44.596</td>\n",
              "      <td>588852.828276</td>\n",
              "      <td>529390.678718</td>\n",
              "      <td>NAD83/HARN/HPGN</td>\n",
              "      <td></td>\n",
              "      <td>NaN</td>\n",
              "    </tr>\n",
              "    <tr>\n",
              "      <th>2</th>\n",
              "      <td>-82.062103</td>\n",
              "      <td>28.757636</td>\n",
              "      <td>3</td>\n",
              "      <td>CONDITIONAL</td>\n",
              "      <td>103</td>\n",
              "      <td>SPRING_GENERAL</td>\n",
              "      <td>YES</td>\n",
              "      <td>BELTONS HEAD SPRING 2</td>\n",
              "      <td>BELTONS MILLPOND HEAD SPRING 2</td>\n",
              "      <td></td>\n",
              "      <td>284527082034301</td>\n",
              "      <td>SWFWMD - DEWITT</td>\n",
              "      <td></td>\n",
              "      <td>NONTIDAL</td>\n",
              "      <td>2</td>\n",
              "      <td>PANASOFFKEE CLUSTER</td>\n",
              "      <td>28 45 27.491</td>\n",
              "      <td>82 03 43.572</td>\n",
              "      <td>588880.098082</td>\n",
              "      <td>529419.861272</td>\n",
              "      <td>NAD83/HARN/HPGN</td>\n",
              "      <td></td>\n",
              "      <td>NaN</td>\n",
              "    </tr>\n",
              "    <tr>\n",
              "      <th>3</th>\n",
              "      <td>-82.063412</td>\n",
              "      <td>28.757887</td>\n",
              "      <td>4</td>\n",
              "      <td>CONDITIONAL</td>\n",
              "      <td>104</td>\n",
              "      <td>SPRING_GENERAL</td>\n",
              "      <td>YES</td>\n",
              "      <td>BELTONS MILLPOND HEAD SPRING 2A</td>\n",
              "      <td>BELTONS MILLPOND HEAD SPRING 2A</td>\n",
              "      <td></td>\n",
              "      <td>284528082034801</td>\n",
              "      <td>SWFWMD - DEWITT</td>\n",
              "      <td></td>\n",
              "      <td>NONTIDAL</td>\n",
              "      <td>2</td>\n",
              "      <td>PANASOFFKEE CLUSTER</td>\n",
              "      <td>28 45 28.393</td>\n",
              "      <td>82 03 48.282</td>\n",
              "      <td>588752.152876</td>\n",
              "      <td>529445.679558</td>\n",
              "      <td>NAD83/HARN/HPGN</td>\n",
              "      <td></td>\n",
              "      <td>NaN</td>\n",
              "    </tr>\n",
              "    <tr>\n",
              "      <th>4</th>\n",
              "      <td>-82.063194</td>\n",
              "      <td>28.758435</td>\n",
              "      <td>5</td>\n",
              "      <td>CONDITIONAL</td>\n",
              "      <td>107</td>\n",
              "      <td>SPRING_GENERAL</td>\n",
              "      <td>YES</td>\n",
              "      <td>BELTONS MILLPOND HEAD SPRING 4</td>\n",
              "      <td>BELTONS MILLPOND HEAD SPRING 4 (BLUE HOLE)</td>\n",
              "      <td></td>\n",
              "      <td>284530082034701</td>\n",
              "      <td>SWFWMD - DEWITT</td>\n",
              "      <td></td>\n",
              "      <td>NONTIDAL</td>\n",
              "      <td>2</td>\n",
              "      <td>PANASOFFKEE CLUSTER</td>\n",
              "      <td>28 45 30.366</td>\n",
              "      <td>82 03 47.498</td>\n",
              "      <td>588772.421236</td>\n",
              "      <td>529506.868760</td>\n",
              "      <td>NAD83/HARN/HPGN</td>\n",
              "      <td></td>\n",
              "      <td>NaN</td>\n",
              "    </tr>\n",
              "  </tbody>\n",
              "</table>\n",
              "</div>"
            ],
            "text/plain": [
              "           X          Y  ...  LOCATION_METHOD                OFS_NAME\n",
              "0 -82.586286  28.796746  ...             DPHO  Homosassa Spring Group\n",
              "1 -82.062388  28.757377  ...                                      NaN\n",
              "2 -82.062103  28.757636  ...                                      NaN\n",
              "3 -82.063412  28.757887  ...                                      NaN\n",
              "4 -82.063194  28.758435  ...                                      NaN\n",
              "\n",
              "[5 rows x 23 columns]"
            ]
          },
          "metadata": {},
          "execution_count": 16
        }
      ]
    }
  ]
}